{
 "cells": [
  {
   "cell_type": "code",
   "execution_count": 1,
   "id": "74fd1832-93e3-460e-ba46-9a6dd1cebe02",
   "metadata": {},
   "outputs": [],
   "source": [
    "import pandas as pd\n",
    "import lxml\n",
    "from fpdf import FPDF"
   ]
  },
  {
   "cell_type": "code",
   "execution_count": 2,
   "id": "7e7e07ba-3752-436b-a283-1f4912c2ad1b",
   "metadata": {},
   "outputs": [],
   "source": [
    "web = pd.read_html(\"http://www.bna.com.ar/Personas\")\n",
    "divisas = web[1]"
   ]
  },
  {
   "cell_type": "code",
   "execution_count": 3,
   "id": "d899cfb1-627e-440b-b590-d904b5e06a98",
   "metadata": {},
   "outputs": [
    {
     "data": {
      "text/html": [
       "<div>\n",
       "<style scoped>\n",
       "    .dataframe tbody tr th:only-of-type {\n",
       "        vertical-align: middle;\n",
       "    }\n",
       "\n",
       "    .dataframe tbody tr th {\n",
       "        vertical-align: top;\n",
       "    }\n",
       "\n",
       "    .dataframe thead th {\n",
       "        text-align: right;\n",
       "    }\n",
       "</style>\n",
       "<table border=\"1\" class=\"dataframe\">\n",
       "  <thead>\n",
       "    <tr style=\"text-align: right;\">\n",
       "      <th></th>\n",
       "      <th>30/8/2022</th>\n",
       "      <th>Compra</th>\n",
       "      <th>Venta</th>\n",
       "    </tr>\n",
       "  </thead>\n",
       "  <tbody>\n",
       "    <tr>\n",
       "      <th>0</th>\n",
       "      <td>Dolar U.S.A</td>\n",
       "      <td>1370000</td>\n",
       "      <td>1450000</td>\n",
       "    </tr>\n",
       "    <tr>\n",
       "      <th>1</th>\n",
       "      <td>Euro</td>\n",
       "      <td>1370000</td>\n",
       "      <td>1450000</td>\n",
       "    </tr>\n",
       "    <tr>\n",
       "      <th>2</th>\n",
       "      <td>Real *</td>\n",
       "      <td>25450000</td>\n",
       "      <td>29450000</td>\n",
       "    </tr>\n",
       "  </tbody>\n",
       "</table>\n",
       "</div>"
      ],
      "text/plain": [
       "     30/8/2022    Compra     Venta\n",
       "0  Dolar U.S.A   1370000   1450000\n",
       "1         Euro   1370000   1450000\n",
       "2       Real *  25450000  29450000"
      ]
     },
     "execution_count": 3,
     "metadata": {},
     "output_type": "execute_result"
    }
   ],
   "source": [
    "billete = web[0]\n",
    "billete"
   ]
  },
  {
   "cell_type": "code",
   "execution_count": 9,
   "id": "214d6648-c22a-4cbf-9158-a7db972285bc",
   "metadata": {},
   "outputs": [],
   "source": [
    "billete.replace(to_replace=\"0000\", value=\",0000\", inplace=True)"
   ]
  },
  {
   "cell_type": "code",
   "execution_count": 29,
   "id": "b473a97f-97a4-45fe-b325-5de557523619",
   "metadata": {},
   "outputs": [
    {
     "data": {
      "text/html": [
       "<div>\n",
       "<style scoped>\n",
       "    .dataframe tbody tr th:only-of-type {\n",
       "        vertical-align: middle;\n",
       "    }\n",
       "\n",
       "    .dataframe tbody tr th {\n",
       "        vertical-align: top;\n",
       "    }\n",
       "\n",
       "    .dataframe thead th {\n",
       "        text-align: right;\n",
       "    }\n",
       "</style>\n",
       "<table border=\"1\" class=\"dataframe\">\n",
       "  <thead>\n",
       "    <tr style=\"text-align: right;\">\n",
       "      <th></th>\n",
       "      <th>30/8/2022</th>\n",
       "      <th>Compra</th>\n",
       "      <th>Venta</th>\n",
       "    </tr>\n",
       "  </thead>\n",
       "  <tbody>\n",
       "    <tr>\n",
       "      <th>0</th>\n",
       "      <td>Dolar U.S.A</td>\n",
       "      <td>1370000</td>\n",
       "      <td>1450000</td>\n",
       "    </tr>\n",
       "    <tr>\n",
       "      <th>1</th>\n",
       "      <td>Euro</td>\n",
       "      <td>1370000</td>\n",
       "      <td>1450000</td>\n",
       "    </tr>\n",
       "    <tr>\n",
       "      <th>2</th>\n",
       "      <td>Real *</td>\n",
       "      <td>25450000</td>\n",
       "      <td>29450000</td>\n",
       "    </tr>\n",
       "  </tbody>\n",
       "</table>\n",
       "</div>"
      ],
      "text/plain": [
       "     30/8/2022    Compra     Venta\n",
       "0  Dolar U.S.A   1370000   1450000\n",
       "1         Euro   1370000   1450000\n",
       "2       Real *  25450000  29450000"
      ]
     },
     "execution_count": 29,
     "metadata": {},
     "output_type": "execute_result"
    }
   ],
   "source": [
    "billete = billete.astype(\"str\")\n",
    "billete"
   ]
  },
  {
   "cell_type": "code",
   "execution_count": 59,
   "id": "e76cd4a6-fc5b-41ba-b6db-18c2b6bac221",
   "metadata": {},
   "outputs": [],
   "source": [
    "billete[\"Compra\"] = billete[\"Compra\"].str[:-4]+\",\"+billete[\"Compra\"].str[-4:]"
   ]
  },
  {
   "cell_type": "code",
   "execution_count": 60,
   "id": "59659f39-7b89-4b56-9b8b-4faec8cbda0e",
   "metadata": {},
   "outputs": [
    {
     "data": {
      "text/html": [
       "<div>\n",
       "<style scoped>\n",
       "    .dataframe tbody tr th:only-of-type {\n",
       "        vertical-align: middle;\n",
       "    }\n",
       "\n",
       "    .dataframe tbody tr th {\n",
       "        vertical-align: top;\n",
       "    }\n",
       "\n",
       "    .dataframe thead th {\n",
       "        text-align: right;\n",
       "    }\n",
       "</style>\n",
       "<table border=\"1\" class=\"dataframe\">\n",
       "  <thead>\n",
       "    <tr style=\"text-align: right;\">\n",
       "      <th></th>\n",
       "      <th>30/8/2022</th>\n",
       "      <th>Compra</th>\n",
       "      <th>Venta</th>\n",
       "    </tr>\n",
       "  </thead>\n",
       "  <tbody>\n",
       "    <tr>\n",
       "      <th>0</th>\n",
       "      <td>Dolar U.S.A</td>\n",
       "      <td>137,0000</td>\n",
       "      <td>1450000</td>\n",
       "    </tr>\n",
       "    <tr>\n",
       "      <th>1</th>\n",
       "      <td>Euro</td>\n",
       "      <td>137,0000</td>\n",
       "      <td>1450000</td>\n",
       "    </tr>\n",
       "    <tr>\n",
       "      <th>2</th>\n",
       "      <td>Real *</td>\n",
       "      <td>2545,0000</td>\n",
       "      <td>29450000</td>\n",
       "    </tr>\n",
       "  </tbody>\n",
       "</table>\n",
       "</div>"
      ],
      "text/plain": [
       "     30/8/2022     Compra     Venta\n",
       "0  Dolar U.S.A   137,0000   1450000\n",
       "1         Euro   137,0000   1450000\n",
       "2       Real *  2545,0000  29450000"
      ]
     },
     "execution_count": 60,
     "metadata": {},
     "output_type": "execute_result"
    }
   ],
   "source": [
    "billete"
   ]
  },
  {
   "cell_type": "code",
   "execution_count": 61,
   "id": "62ba1eeb-64ea-411b-b499-38085a81fa56",
   "metadata": {},
   "outputs": [],
   "source": [
    "billete[\"Venta\"] = billete[\"Venta\"].str[:-4]+\",\"+billete[\"Venta\"].str[-4:]"
   ]
  },
  {
   "cell_type": "code",
   "execution_count": 62,
   "id": "e3f956fd-de0f-4a7d-a61b-67f034593b8e",
   "metadata": {},
   "outputs": [
    {
     "data": {
      "text/html": [
       "<div>\n",
       "<style scoped>\n",
       "    .dataframe tbody tr th:only-of-type {\n",
       "        vertical-align: middle;\n",
       "    }\n",
       "\n",
       "    .dataframe tbody tr th {\n",
       "        vertical-align: top;\n",
       "    }\n",
       "\n",
       "    .dataframe thead th {\n",
       "        text-align: right;\n",
       "    }\n",
       "</style>\n",
       "<table border=\"1\" class=\"dataframe\">\n",
       "  <thead>\n",
       "    <tr style=\"text-align: right;\">\n",
       "      <th></th>\n",
       "      <th>30/8/2022</th>\n",
       "      <th>Compra</th>\n",
       "      <th>Venta</th>\n",
       "    </tr>\n",
       "  </thead>\n",
       "  <tbody>\n",
       "    <tr>\n",
       "      <th>0</th>\n",
       "      <td>Dolar U.S.A</td>\n",
       "      <td>137,0000</td>\n",
       "      <td>145,0000</td>\n",
       "    </tr>\n",
       "    <tr>\n",
       "      <th>1</th>\n",
       "      <td>Euro</td>\n",
       "      <td>137,0000</td>\n",
       "      <td>145,0000</td>\n",
       "    </tr>\n",
       "    <tr>\n",
       "      <th>2</th>\n",
       "      <td>Real *</td>\n",
       "      <td>2545,0000</td>\n",
       "      <td>2945,0000</td>\n",
       "    </tr>\n",
       "  </tbody>\n",
       "</table>\n",
       "</div>"
      ],
      "text/plain": [
       "     30/8/2022     Compra      Venta\n",
       "0  Dolar U.S.A   137,0000   145,0000\n",
       "1         Euro   137,0000   145,0000\n",
       "2       Real *  2545,0000  2945,0000"
      ]
     },
     "execution_count": 62,
     "metadata": {},
     "output_type": "execute_result"
    }
   ],
   "source": [
    "billete"
   ]
  },
  {
   "cell_type": "code",
   "execution_count": 76,
   "id": "c21f7b0d-4b90-42cb-abc8-74573bf9a2bb",
   "metadata": {},
   "outputs": [
    {
     "data": {
      "text/plain": [
       "'30/8/2022'"
      ]
     },
     "execution_count": 76,
     "metadata": {},
     "output_type": "execute_result"
    }
   ],
   "source": [
    "fecha  =billete.columns[0]\n",
    "fecha"
   ]
  },
  {
   "cell_type": "code",
   "execution_count": 90,
   "id": "77f7bc1b-a8b4-4519-bebf-5285e6322526",
   "metadata": {},
   "outputs": [
    {
     "data": {
      "text/plain": [
       "''"
      ]
     },
     "execution_count": 90,
     "metadata": {},
     "output_type": "execute_result"
    }
   ],
   "source": [
    "pdf = FPDF(orientation=\"landscape\",unit=\"pt\",format=(383,372))\n",
    "pdf.add_page()\n",
    "pdf.image(\"BNA.png\", x=0, y=0)\n",
    "pdf.set_font(\"Helvetica\", size=22)\n",
    "pdf.set_text_color(r=150)\n",
    "#fecha\n",
    "pdf.text(txt=fecha, x=17, y=122)\n",
    "# letra de la cuadrilla\n",
    "pdf.set_font(\"Helvetica\", size=18)\n",
    "pdf.set_text_color(r=100)\n",
    "\n",
    "#Dolar Compra\n",
    "pdf.text(txt=billete.Compra[0], x=199, y=165)\n",
    "#Dolar Venta\n",
    "pdf.text(txt=billete.Venta[0], x=287, y=165)\n",
    "#Dolar Compra\n",
    "pdf.text(txt=billete.Compra[0], x=199, y=165)\n",
    "#Euro Venta\n",
    "pdf.text(txt=billete.Venta[1], x=287, y=208)\n",
    "#Dolar Compra\n",
    "pdf.text(txt=billete.Compra[1], x=199, y=208)\n",
    "#Real Venta\n",
    "pdf.text(txt=billete.Venta[2], x=287, y=250)\n",
    "#Real Compra\n",
    "pdf.text(txt=billete.Compra[2], x=199, y=250)\n",
    "\n",
    "pdf.output(\"BNA_Dolar\")"
   ]
  }
 ],
 "metadata": {
  "kernelspec": {
   "display_name": "Python 3 (ipykernel)",
   "language": "python",
   "name": "python3"
  },
  "language_info": {
   "codemirror_mode": {
    "name": "ipython",
    "version": 3
   },
   "file_extension": ".py",
   "mimetype": "text/x-python",
   "name": "python",
   "nbconvert_exporter": "python",
   "pygments_lexer": "ipython3",
   "version": "3.9.12"
  }
 },
 "nbformat": 4,
 "nbformat_minor": 5
}
